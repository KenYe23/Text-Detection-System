{
 "cells": [
  {
   "cell_type": "markdown",
   "metadata": {
    "id": "rjNP_QI1idRi"
   },
   "source": [
    "# Import Packages"
   ]
  },
  {
   "cell_type": "code",
   "execution_count": null,
   "metadata": {},
   "outputs": [
    {
     "name": "stdout",
     "output_type": "stream",
     "text": [
      "[sudo] password for jupyter: "
     ]
    }
   ],
   "source": [
    "!sudo apt-get update\n",
    "!sudo apt-get install python3.8\n"
   ]
  },
  {
   "cell_type": "raw",
   "metadata": {},
   "source": [
    "!pip install opencv-python-headless"
   ]
  },
  {
   "cell_type": "code",
   "execution_count": null,
   "metadata": {},
   "outputs": [],
   "source": [
    "!pip install torch==1.8.1 torchvision==0.9.1 -f https://download.pytorch.org/whl/cu102/torch_stable.html"
   ]
  },
  {
   "cell_type": "code",
   "execution_count": null,
   "metadata": {},
   "outputs": [],
   "source": [
    "!pip install tensorboard --user"
   ]
  },
  {
   "cell_type": "code",
   "execution_count": null,
   "metadata": {},
   "outputs": [],
   "source": [
    "!pip install pycocotools --user"
   ]
  },
  {
   "cell_type": "code",
   "execution_count": null,
   "metadata": {},
   "outputs": [],
   "source": [
    "!pip install addict"
   ]
  },
  {
   "cell_type": "code",
   "execution_count": null,
   "metadata": {
    "executionInfo": {
     "elapsed": 1697,
     "status": "ok",
     "timestamp": 1690990827586,
     "user": {
      "displayName": "Ken Ye",
      "userId": "12827569412657472689"
     },
     "user_tz": 240
    },
    "id": "hznUFHtvZ9Ss"
   },
   "outputs": [],
   "source": [
    "import os\n",
    "import cv2\n",
    "import imageio\n",
    "import torch"
   ]
  },
  {
   "cell_type": "markdown",
   "metadata": {
    "id": "8NPKM7t8ijJR"
   },
   "source": [
    "# Supplemental Functions"
   ]
  },
  {
   "cell_type": "code",
   "execution_count": null,
   "metadata": {
    "executionInfo": {
     "elapsed": 6,
     "status": "ok",
     "timestamp": 1690819781081,
     "user": {
      "displayName": "Ken Ye",
      "userId": "12827569412657472689"
     },
     "user_tz": 240
    },
    "id": "4MZ8NFOHOf8F"
   },
   "outputs": [],
   "source": [
    "# create a GIF from the images\n",
    "def create_gif(image_dir, gif_path, duration = 1):\n",
    "    images = []\n",
    "\n",
    "    for filename in os.listdir(image_dir):\n",
    "        file_path = os.path.join(image_dir, filename)\n",
    "        images.append(imageio.v2.imread(file_path))\n",
    "\n",
    "    imageio.mimsave(gif_path, images, duration = duration)"
   ]
  },
  {
   "cell_type": "code",
   "execution_count": null,
   "metadata": {
    "executionInfo": {
     "elapsed": 4,
     "status": "ok",
     "timestamp": 1690819781081,
     "user": {
      "displayName": "Ken Ye",
      "userId": "12827569412657472689"
     },
     "user_tz": 240
    },
    "id": "2EyAvMvjOxMt"
   },
   "outputs": [],
   "source": [
    "# create a mp4 video from the images\n",
    "def create_video(image_dir, video_path, fps=1):\n",
    "    images = []\n",
    "\n",
    "    for filename in os.listdir(image_dir):\n",
    "        file_path = os.path.join(image_dir, filename)\n",
    "        images.append(cv2.imread(file_path))\n",
    "\n",
    "    height, width, layers = images[0].shape\n",
    "    video = cv2.VideoWriter(video_path, cv2.VideoWriter_fourcc(*'mp4v'), fps, (width, height))\n",
    "\n",
    "    for image in images:\n",
    "        video.write(image)\n",
    "\n",
    "    video.release()"
   ]
  },
  {
   "cell_type": "markdown",
   "metadata": {
    "id": "mjPVu2aGinAB"
   },
   "source": [
    "# Clone Git Repo & Install Dependencies"
   ]
  },
  {
   "cell_type": "code",
   "execution_count": null,
   "metadata": {},
   "outputs": [],
   "source": [
    "os.chdir(\"../Text Detection Project\")"
   ]
  },
  {
   "cell_type": "code",
   "execution_count": null,
   "metadata": {
    "colab": {
     "base_uri": "https://localhost:8080/"
    },
    "executionInfo": {
     "elapsed": 5136,
     "status": "ok",
     "timestamp": 1690990832720,
     "user": {
      "displayName": "Ken Ye",
      "userId": "12827569412657472689"
     },
     "user_tz": 240
    },
    "id": "2MSADe4T1WV7",
    "outputId": "fde28c94-6c01-42bb-b284-8285e44f726b"
   },
   "outputs": [],
   "source": [
    "!git clone https://github.com/meituan/YOLOv6.git\n",
    "%cd YOLOv6\n",
    "%pip install -r requirements.txt"
   ]
  },
  {
   "cell_type": "markdown",
   "metadata": {
    "id": "UzucfB5ai9TT"
   },
   "source": [
    "# YOLOv6-S"
   ]
  },
  {
   "cell_type": "code",
   "execution_count": null,
   "metadata": {
    "colab": {
     "base_uri": "https://localhost:8080/"
    },
    "executionInfo": {
     "elapsed": 183,
     "status": "ok",
     "timestamp": 1690819809104,
     "user": {
      "displayName": "Ken Ye",
      "userId": "12827569412657472689"
     },
     "user_tz": 240
    },
    "id": "POGQjJZSPPiZ",
    "outputId": "ed3ef90e-9f5b-42c8-d39e-2ff1dbfc2392"
   },
   "outputs": [],
   "source": [
    "# download the pretrained model\n",
    "torch.hub.download_url_to_file('https://github.com/meituan/YOLOv6/releases/download/0.4.0/yolov6s.pt', 'yolov6s.pt')"
   ]
  },
  {
   "cell_type": "code",
   "execution_count": null,
   "metadata": {
    "colab": {
     "base_uri": "https://localhost:8080/"
    },
    "executionInfo": {
     "elapsed": 4197225,
     "status": "ok",
     "timestamp": 1690824006327,
     "user": {
      "displayName": "Ken Ye",
      "userId": "12827569412657472689"
     },
     "user_tz": 240
    },
    "id": "xyFVoMThbBB1",
    "outputId": "2f92335e-d75c-4dac-b364-9e84f3fcfc7f"
   },
   "outputs": [],
   "source": [
    "%%time\n",
    "# train custom data (single GPU) on train set\n",
    "# caution: need to modify data/dataset.yaml to only one class ['text']\n",
    "!python tools/train.py --batch 32 --conf configs/yolov6s_finetune.py --data data/dataset.yaml --fuse_ab --device 0"
   ]
  },
  {
   "cell_type": "code",
   "execution_count": null,
   "metadata": {
    "colab": {
     "base_uri": "https://localhost:8080/"
    },
    "executionInfo": {
     "elapsed": 11680,
     "status": "ok",
     "timestamp": 1690825254432,
     "user": {
      "displayName": "Ken Ye",
      "userId": "12827569412657472689"
     },
     "user_tz": 240
    },
    "id": "0ljKP7T7jSUd",
    "outputId": "fb437300-9479-4e7d-b1a8-4ace0e86d056"
   },
   "outputs": [],
   "source": [
    "%%time\n",
    "# evaluation on validation set\n",
    "# caution: need to modify best_ckpt.pt file path\n",
    "!python tools/eval.py --data data/dataset.yaml  --weights runs/train/exp1/weights/best_ckpt.pt --task val --device 0"
   ]
  },
  {
   "cell_type": "code",
   "execution_count": null,
   "metadata": {
    "colab": {
     "base_uri": "https://localhost:8080/"
    },
    "executionInfo": {
     "elapsed": 709779,
     "status": "ok",
     "timestamp": 1690830108443,
     "user": {
      "displayName": "Ken Ye",
      "userId": "12827569412657472689"
     },
     "user_tz": 240
    },
    "id": "3NlSJ7HazBrq",
    "outputId": "d8bc34a0-5b0e-4711-fd9b-1cd89783c0bb"
   },
   "outputs": [],
   "source": [
    "%%time\n",
    "# inference on test set\n",
    "# caution: need to modify best_ckpt.pt file path\n",
    "for i in range(1,101):\n",
    "    filename = '../custom_dataset/images/test/test ' + str(i) + '.jpg'\n",
    "    !python tools/infer.py --weights runs/train/exp1/weights/best_ckpt.pt --source '{filename}' --yaml data/dataset.yaml --device 0"
   ]
  },
  {
   "cell_type": "code",
   "execution_count": null,
   "metadata": {
    "colab": {
     "background_save": true
    },
    "id": "d_Bn87xxVFSI"
   },
   "outputs": [],
   "source": [
    "# make the images annotated by YOLO to a video for better checking\n",
    "image_dir = 'runs/inference/exp'\n",
    "video_path = 'runs/inference/exp/annotation video.mp4'\n",
    "create_video(image_dir, video_path)"
   ]
  },
  {
   "cell_type": "code",
   "execution_count": null,
   "metadata": {
    "colab": {
     "base_uri": "https://localhost:8080/",
     "height": 1000,
     "output_embedded_package_id": "1I9FyZwWmtHWaPIexgG0989q1qxZUqsSW"
    },
    "executionInfo": {
     "elapsed": 32738,
     "status": "ok",
     "timestamp": 1690990897808,
     "user": {
      "displayName": "Ken Ye",
      "userId": "12827569412657472689"
     },
     "user_tz": 240
    },
    "id": "tinkJNtvba-y",
    "outputId": "8265d95c-87e1-4c7c-e54f-4d70b1bccb01"
   },
   "outputs": [],
   "source": [
    "# infer single images\n",
    "# caution: need to modify best_ckpt.pt file path\n",
    "!python tools/infer.py --weights runs/train/exp1/weights/best_ckpt.pt --source '../custom_dataset/images/test/infer 1.jpg' --yaml data/dataset.yaml --device 0\n",
    "!python tools/infer.py --weights runs/train/exp1/weights/best_ckpt.pt --source '../custom_dataset/images/test/infer 2.jpg' --yaml data/dataset.yaml --device 0\n",
    "# show image\n",
    "img1 = cv2.imread('runs/inference/exp/infer 1.jpg')\n",
    "cv2_imshow(img1)\n",
    "img2 = cv2.imread('runs/inference/exp/infer 2.jpg')\n",
    "cv2_imshow(img2)"
   ]
  }
 ],
 "metadata": {
  "colab": {
   "authorship_tag": "ABX9TyPO13BRkAArm12XHIdNcoFG",
   "gpuType": "A100",
   "machine_shape": "hm",
   "mount_file_id": "1-gYEJZo42cy7ZLl6N6EKGH7EIC4j_DKA",
   "provenance": []
  },
  "kernelspec": {
   "display_name": "Python (Local)",
   "language": "python",
   "name": "local-base"
  },
  "language_info": {
   "codemirror_mode": {
    "name": "ipython",
    "version": 3
   },
   "file_extension": ".py",
   "mimetype": "text/x-python",
   "name": "python",
   "nbconvert_exporter": "python",
   "pygments_lexer": "ipython3",
   "version": "3.7.12"
  }
 },
 "nbformat": 4,
 "nbformat_minor": 4
}
