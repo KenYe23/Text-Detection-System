{
 "cells": [
  {
   "cell_type": "markdown",
   "metadata": {
    "id": "BAFIVBg9nl4t"
   },
   "source": [
    "# Download & Import Packages"
   ]
  },
  {
   "cell_type": "code",
   "execution_count": null,
   "metadata": {},
   "outputs": [
    {
     "name": "stdout",
     "output_type": "stream",
     "text": [
      "Collecting opencv-python-headless\n",
      "  Using cached opencv_python_headless-4.8.0.74-cp37-abi3-manylinux_2_17_x86_64.manylinux2014_x86_64.whl (49.1 MB)\n",
      "Requirement already satisfied: numpy>=1.17.0 in /opt/conda/lib/python3.7/site-packages (from opencv-python-headless) (1.21.6)\n",
      "Installing collected packages: opencv-python-headless\n",
      "Successfully installed opencv-python-headless-4.8.0.74\n"
     ]
    }
   ],
   "source": [
    "!pip install opencv-python-headless"
   ]
  },
  {
   "cell_type": "code",
   "execution_count": null,
   "metadata": {
    "executionInfo": {
     "elapsed": 830,
     "status": "ok",
     "timestamp": 1690817722126,
     "user": {
      "displayName": "Ken Ye",
      "userId": "12827569412657472689"
     },
     "user_tz": 240
    },
    "id": "NuCGj-Ck7ov3"
   },
   "outputs": [],
   "source": [
    "from PIL import Image, ImageDraw, ImageFont\n",
    "import math\n",
    "import random\n",
    "import string\n",
    "import requests\n",
    "import numpy as np\n",
    "import math\n",
    "import os\n",
    "import cv2\n",
    "import imageio\n",
    "import shutil\n",
    "from concurrent.futures import ThreadPoolExecutor"
   ]
  },
  {
   "cell_type": "code",
   "execution_count": null,
   "metadata": {},
   "outputs": [],
   "source": [
    "os.chdir(\"../Text Detection Project\")"
   ]
  },
  {
   "cell_type": "markdown",
   "metadata": {
    "id": "fVbc5OPrnpX2"
   },
   "source": [
    "# Import Word Lists for Text Generation"
   ]
  },
  {
   "cell_type": "markdown",
   "metadata": {},
   "source": [
    "Scraped from Wikepedia, GitHub, and other online resources "
   ]
  },
  {
   "cell_type": "code",
   "execution_count": null,
   "metadata": {
    "executionInfo": {
     "elapsed": 1009,
     "status": "ok",
     "timestamp": 1690817723132,
     "user": {
      "displayName": "Ken Ye",
      "userId": "12827569412657472689"
     },
     "user_tz": 240
    },
    "id": "3ctYLgKXbtgQ"
   },
   "outputs": [],
   "source": [
    "# import English word list (10000 entries) for random text generation\n",
    "with open('Word Lists/English Word List.txt') as f:\n",
    "    English_list = f.read().split('\\n')[:-1]"
   ]
  },
  {
   "cell_type": "code",
   "execution_count": null,
   "metadata": {
    "executionInfo": {
     "elapsed": 179,
     "status": "ok",
     "timestamp": 1690817723491,
     "user": {
      "displayName": "Ken Ye",
      "userId": "12827569412657472689"
     },
     "user_tz": 240
    },
    "id": "M42ytAX8spyK"
   },
   "outputs": [],
   "source": [
    "# import Portuguese word list (4927 entries) for random text generation\n",
    "with open('Word Lists/Portuguese Word List.txt') as f:\n",
    "    Portuguese_list = f.read().split('\\n')[:-1]"
   ]
  },
  {
   "cell_type": "code",
   "execution_count": null,
   "metadata": {
    "executionInfo": {
     "elapsed": 525,
     "status": "ok",
     "timestamp": 1690817724191,
     "user": {
      "displayName": "Ken Ye",
      "userId": "12827569412657472689"
     },
     "user_tz": 240
    },
    "id": "DwbFadTZ2MmU"
   },
   "outputs": [],
   "source": [
    "# import Chinese word list (56064 entries) for random text generation\n",
    "with open('Word Lists/Chinese Word List.txt') as f:\n",
    "    Chinese_list = f.read().split('\\n')[:-1]"
   ]
  },
  {
   "cell_type": "markdown",
   "metadata": {
    "id": "cyYZbOlNnwa2"
   },
   "source": [
    "# Helper Functions for Random Text Generation"
   ]
  },
  {
   "cell_type": "code",
   "execution_count": null,
   "metadata": {
    "executionInfo": {
     "elapsed": 6,
     "status": "ok",
     "timestamp": 1690817724191,
     "user": {
      "displayName": "Ken Ye",
      "userId": "12827569412657472689"
     },
     "user_tz": 240
    },
    "id": "XIEzVAnV87rN"
   },
   "outputs": [],
   "source": [
    "# generate random text block\n",
    "# supports English, Portuguese, and Chinese\n",
    "def generate_random_text(length, language):\n",
    "    if language == 'English':\n",
    "        word_list = English_list\n",
    "        text = ' '.join(random.choice(word_list) for _ in range(length))\n",
    "        return text\n",
    "    elif language == 'Portuguese':\n",
    "        word_list = Portuguese_list\n",
    "        text = ' '.join(random.choice(word_list) for _ in range(length))\n",
    "        return text\n",
    "    elif language == 'Chinese':\n",
    "        word_list = Chinese_list\n",
    "        text = ' '.join(random.choice(word_list) for _ in range(length))\n",
    "        return text\n",
    "    else:\n",
    "        return 'Language not supported'"
   ]
  },
  {
   "cell_type": "code",
   "execution_count": null,
   "metadata": {
    "executionInfo": {
     "elapsed": 6,
     "status": "ok",
     "timestamp": 1690817724192,
     "user": {
      "displayName": "Ken Ye",
      "userId": "12827569412657472689"
     },
     "user_tz": 240
    },
    "id": "Vz90QLPK9boK"
   },
   "outputs": [],
   "source": [
    "# generate a random color in RGB format\n",
    "def generate_random_color():\n",
    "    r = random.randint(0, 255)\n",
    "    g = random.randint(0, 255)\n",
    "    b = random.randint(0, 255)\n",
    "    return (r, g, b)"
   ]
  },
  {
   "cell_type": "code",
   "execution_count": null,
   "metadata": {
    "executionInfo": {
     "elapsed": 6,
     "status": "ok",
     "timestamp": 1690817724192,
     "user": {
      "displayName": "Ken Ye",
      "userId": "12827569412657472689"
     },
     "user_tz": 240
    },
    "id": "9CKvVH3sE75C"
   },
   "outputs": [],
   "source": [
    "# generate a random grayscale color in RGB format\n",
    "def generate_random_grayscale_color():\n",
    "    intensity = random.randint(0, 255)\n",
    "    return (intensity, intensity, intensity)"
   ]
  },
  {
   "cell_type": "code",
   "execution_count": null,
   "metadata": {
    "executionInfo": {
     "elapsed": 307,
     "status": "ok",
     "timestamp": 1690817828491,
     "user": {
      "displayName": "Ken Ye",
      "userId": "12827569412657472689"
     },
     "user_tz": 240
    },
    "id": "5bTQuvYsjiXC"
   },
   "outputs": [],
   "source": [
    "# generate a number from Poisson distribution\n",
    "def generate_poisson(lower_bound = 1, upper_bound = 10, lambd = 2):\n",
    "    while True:\n",
    "        sample = np.random.poisson(lambd)\n",
    "        if lower_bound <= sample <= upper_bound:\n",
    "            return sample"
   ]
  },
  {
   "cell_type": "markdown",
   "metadata": {
    "id": "OhHa04FRn70a"
   },
   "source": [
    "# Main Function for Random Text Generation"
   ]
  },
  {
   "cell_type": "code",
   "execution_count": null,
   "metadata": {
    "executionInfo": {
     "elapsed": 7,
     "status": "ok",
     "timestamp": 1690817724194,
     "user": {
      "displayName": "Ken Ye",
      "userId": "12827569412657472689"
     },
     "user_tz": 240
    },
    "id": "dQG-BhSv9fR6"
   },
   "outputs": [],
   "source": [
    "# overlay random text on image\n",
    "# customize randomness\n",
    "def overlay_random_text(\n",
    "    input, output,\n",
    "    language = 'English',\n",
    "    font_name =  'Arial Unicode.ttf',\n",
    "    font_size = 20, # pixels\n",
    "    text_length = 10, # number of characters\n",
    "    fill_color = (0, 0, 0), # default black\n",
    "    stroke_color = (255, 255, 255), # default white\n",
    "    stroke_width = 1, # pixels\n",
    "    rotation_degree = 0):\n",
    "\n",
    "    with Image.open(input) as img:\n",
    "\n",
    "        # makes sure image is in RGB mode\n",
    "        if img.mode != 'RGB':\n",
    "            img = img.convert('RGB')\n",
    "\n",
    "        draw = ImageDraw.Draw(img)\n",
    "        font = ImageFont.truetype('Fonts/' + font_name, font_size)\n",
    "        text = generate_random_text(text_length, language)\n",
    "\n",
    "        # generate random coordinate (top-left)\n",
    "        x, y = random.randint(0, img.width), random.randint(0, img.height)\n",
    "\n",
    "        # generate transparent image to temporarily place text\n",
    "        temp = Image.new('RGBA', (img.width, img.height), (0, 0, 0, 0))  # transparent black background\n",
    "\n",
    "        # draw text\n",
    "        temp_draw = ImageDraw.Draw(temp)\n",
    "        temp_draw.text((x, y), text, font=font, fill=fill_color, stroke_width=stroke_width, stroke_fill=stroke_color)\n",
    "\n",
    "        # rotate\n",
    "        temp = temp.rotate(rotation_degree, fillcolor=(0, 0, 0, 0))\n",
    "\n",
    "        # find the first and last pixels containing text on y axis and x axis\n",
    "        data = np.array(temp)\n",
    "        colored = np.any(data[:, :, :] != [0, 0, 0, 0], axis=2)  # find pixels that are not transparent black\n",
    "        ## y axis\n",
    "        reduced_y = np.any(colored, axis=1)\n",
    "        indices_y = np.where(reduced_y)[0]\n",
    "        first_index_y = indices_y[0] if indices_y.size else 0\n",
    "        last_index_y = indices_y[-1] if indices_y.size else 0\n",
    "        ## x axis\n",
    "        reduced_x = np.any(colored, axis=0)\n",
    "        indices_x = np.where(reduced_x)[0]\n",
    "        first_index_x = indices_x[0] if indices_x.size else 0\n",
    "        last_index_x = indices_x[-1] if indices_x.size else 0\n",
    "\n",
    "        # # uncomment when checking manual bounding boxes\n",
    "        # # draw bounding box\n",
    "        # draw.rectangle((first_index_x, first_index_y, last_index_x, last_index_y), outline = 'red')\n",
    "\n",
    "        # paste text on to the image\n",
    "        img.paste(temp, temp)\n",
    "\n",
    "        # save image\n",
    "        img.save(output)\n",
    "        print(f'Image saved in {output}')\n",
    "\n",
    "        # calculate center_x, center_y, bbox_width, bbox_height\n",
    "        # then normalize to (0-1)\n",
    "        center_x = (last_index_x + first_index_x)/2\n",
    "        center_x_norm = center_x / img.width\n",
    "        center_y = (last_index_y + first_index_y)/2\n",
    "        center_y_norm = center_y / img.height\n",
    "        bbox_width = last_index_x - first_index_x\n",
    "        bbox_width_norm = bbox_width / img.width\n",
    "        bbox_height = last_index_y - first_index_y\n",
    "        bbox_height_norm = bbox_height / img.height\n",
    "\n",
    "        return center_x_norm, center_y_norm, bbox_width_norm, bbox_height_norm"
   ]
  },
  {
   "cell_type": "markdown",
   "metadata": {
    "id": "a7ZyuaWgoDLE"
   },
   "source": [
    "# Supplemental Functions"
   ]
  },
  {
   "cell_type": "code",
   "execution_count": null,
   "metadata": {
    "executionInfo": {
     "elapsed": 7,
     "status": "ok",
     "timestamp": 1690817724194,
     "user": {
      "displayName": "Ken Ye",
      "userId": "12827569412657472689"
     },
     "user_tz": 240
    },
    "id": "4MZ8NFOHOf8F"
   },
   "outputs": [],
   "source": [
    "# create a GIF from the images\n",
    "def create_gif(image_dir, gif_path, duration = 1):\n",
    "    images = []\n",
    "\n",
    "    for filename in os.listdir(image_dir):\n",
    "        file_path = os.path.join(image_dir, filename)\n",
    "        images.append(imageio.v2.imread(file_path))\n",
    "\n",
    "    imageio.mimsave(gif_path, images, duration = duration)"
   ]
  },
  {
   "cell_type": "code",
   "execution_count": null,
   "metadata": {
    "executionInfo": {
     "elapsed": 7,
     "status": "ok",
     "timestamp": 1690817724194,
     "user": {
      "displayName": "Ken Ye",
      "userId": "12827569412657472689"
     },
     "user_tz": 240
    },
    "id": "2EyAvMvjOxMt"
   },
   "outputs": [],
   "source": [
    "# create a mp4 video from the images\n",
    "def create_video(image_dir, video_path, fps=1):\n",
    "    images = []\n",
    "\n",
    "    for filename in os.listdir(image_dir):\n",
    "        file_path = os.path.join(image_dir, filename)\n",
    "        images.append(cv2.imread(file_path))\n",
    "\n",
    "    height, width, layers = images[0].shape\n",
    "    video = cv2.VideoWriter(video_path, cv2.VideoWriter_fourcc(*'mp4v'), fps, (width, height))\n",
    "\n",
    "    for image in images:\n",
    "        video.write(image)\n",
    "\n",
    "    video.release()"
   ]
  },
  {
   "cell_type": "markdown",
   "metadata": {
    "id": "0B-zgtauoNcp"
   },
   "source": [
    "# Preprocess Images (112120 Images Total)"
   ]
  },
  {
   "cell_type": "code",
   "execution_count": null,
   "metadata": {
    "executionInfo": {
     "elapsed": 6,
     "status": "ok",
     "timestamp": 1690817724194,
     "user": {
      "displayName": "Ken Ye",
      "userId": "12827569412657472689"
     },
     "user_tz": 240
    },
    "id": "yGkvYKy_kRi9"
   },
   "outputs": [
    {
     "name": "stdout",
     "output_type": "stream",
     "text": [
      "CPU times: user 4h 47min 27s, sys: 2min 19s, total: 4h 49min 47s\n",
      "Wall time: 1h 18min 9s\n"
     ]
    }
   ],
   "source": [
    "%%time\n",
    "# crop images to 640 by 640 to get rid of noise (burn in text that we don't have labels for)\n",
    "\n",
    "source_folder = 'DICOM/Original'\n",
    "destination_folder = 'DICOM/Cropped'\n",
    "\n",
    "def process_image_crop(file, subfolder_path, image_counter):\n",
    "    source = os.path.join(subfolder_path, file)\n",
    "    \n",
    "    # Skip directories\n",
    "    if os.path.isdir(source):\n",
    "        return\n",
    "    \n",
    "    destination = os.path.join(destination_folder, f\"image {image_counter:06d}.png\")\n",
    "    \n",
    "    try:\n",
    "        img = Image.open(source)\n",
    "        width, height = img.size  # Assuming 1024 by 1024\n",
    "        left = 192\n",
    "        top = 192\n",
    "        right = 832\n",
    "        bottom = 832\n",
    "        img_cropped = img.crop((left, top, right, bottom))  # 640 by 640\n",
    "        img_cropped.save(destination)\n",
    "    except Exception as e:\n",
    "        print(f\"Could not process file {file} in {subfolder_name}: {str(e)}\")\n",
    "\n",
    "# Use ThreadPoolExecutor to run the function in multiple threads\n",
    "NUM_THREADS = 10\n",
    "image_counter = 1  # Counter to rename images\n",
    "\n",
    "with ThreadPoolExecutor(max_workers=NUM_THREADS) as executor:\n",
    "    # Loop through each subfolder named \"images 1\" to \"images 12\"\n",
    "    for i in range(1, 13):\n",
    "        subfolder_name = f\"images {i}\"\n",
    "        subfolder_path = os.path.join(source_folder, subfolder_name)\n",
    "        \n",
    "        # List all files in the subfolder\n",
    "        files = os.listdir(subfolder_path)\n",
    "        \n",
    "        for file in files:\n",
    "            executor.submit(process_image_crop, file, subfolder_path, image_counter)\n",
    "            image_counter += 1  # Increment the counter for the next image name\n"
   ]
  },
  {
   "cell_type": "markdown",
   "metadata": {},
   "source": [
    "# Define Main Function Parameters"
   ]
  },
  {
   "cell_type": "code",
   "execution_count": null,
   "metadata": {
    "executionInfo": {
     "elapsed": 9,
     "status": "ok",
     "timestamp": 1690817737491,
     "user": {
      "displayName": "Ken Ye",
      "userId": "12827569412657472689"
     },
     "user_tz": 240
    },
    "id": "WS2Fftdv9iEF"
   },
   "outputs": [],
   "source": [
    "languages = ['English', 'Portuguese', 'Chinese']\n",
    "English_Portuguese_font_list = [\n",
    "    'Arial Unicode.ttf',\n",
    "    'Geneva.ttf',\n",
    "    'Keyboard.ttf',\n",
    "    'Monaco.ttf',\n",
    "    'NewYork.ttf',\n",
    "    'NewYorkItalic.ttf',\n",
    "    'OpenSans-Light.ttf',\n",
    "    'OpenSans_Condensed-Bold.ttf',\n",
    "    'OpenSans_Condensed-BoldItalic.ttf',\n",
    "    'OpenSans_Condensed-ExtraBold.ttf',\n",
    "    'OpenSans_Condensed-ExtraBoldItalic.ttf',\n",
    "    'OpenSans_Condensed-Italic.ttf',\n",
    "    'OpenSans_Condensed-Light.ttf',\n",
    "    'OpenSans_Condensed-LightItalic.ttf',\n",
    "    'OpenSans_Condensed-Medium.ttf',\n",
    "    'OpenSans_Condensed-MediumItalic.ttf',\n",
    "    'OpenSans_Condensed-Regular.ttf',\n",
    "    'OpenSans_Condensed-SemiBold.ttf',\n",
    "    'OpenSans_Condensed-SemiBoldItalic.ttf',\n",
    "    'OpenSans_SemiCondensed-Bold.ttf',\n",
    "    'OpenSans_SemiCondensed-BoldItalic.ttf',\n",
    "    'OpenSans_SemiCondensed-ExtraBold.ttf',\n",
    "    'OpenSans_SemiCondensed-ExtraBoldItalic.ttf',\n",
    "    'OpenSans_SemiCondensed-Italic.ttf',\n",
    "    'OpenSans_SemiCondensed-Light.ttf',\n",
    "    'OpenSans_SemiCondensed-LightItalic.ttf',\n",
    "    'OpenSans_SemiCondensed-Medium.ttf',\n",
    "    'OpenSans_SemiCondensed-MediumItalic.ttf',\n",
    "    'OpenSans_SemiCondensed-Regular.ttf',\n",
    "    'OpenSans_SemiCondensed-SemiBold.ttf',\n",
    "    'OpenSans_SemiCondensed-SemiBoldItalic.ttf',\n",
    "    'OpenSans-Bold.ttf',\n",
    "    'OpenSans-BoldItalic.ttf',\n",
    "    'OpenSans-ExtraBold.ttf',\n",
    "    'OpenSans-ExtraBoldItalic.ttf',\n",
    "    'OpenSans-Italic.ttf',\n",
    "    'OpenSans-LightItalic.ttf',\n",
    "    'OpenSans-Medium.ttf',\n",
    "    'OpenSans-MediumItalic.ttf',\n",
    "    'OpenSans-Regular.ttf',\n",
    "    'OpenSans-SemiBold.ttf',\n",
    "    'OpenSans-SemiBoldItalic.ttf',\n",
    "    'Roboto-ThinItalic.ttf',\n",
    "    'Roboto-Thin.ttf',\n",
    "    'Roboto-Regular.ttf',\n",
    "    'Roboto-MediumItalic.ttf',\n",
    "    'Roboto-Medium.ttf',\n",
    "    'Roboto-LightItalic.ttf',\n",
    "    'Roboto-Light.ttf',\n",
    "    'Roboto-Italic.ttf',\n",
    "    'Roboto-BoldItalic.ttf',\n",
    "    'Roboto-Bold.ttf',\n",
    "    'Roboto-BlackItalic.ttf',\n",
    "    'Roboto-Black.ttf',\n",
    "    'SFCompact.ttf',\n",
    "    'SFCompactItalic.ttf',\n",
    "    'SFCompactRounded.ttf',\n",
    "    'SFNS.ttf',\n",
    "    'SFNSItalic.ttf',\n",
    "    'SFNSMono.ttf',\n",
    "    'SFNSMonoItalic.ttf',\n",
    "    'SFNSRounded.ttf'\n",
    "]\n",
    "# works for google colab only\n",
    "Chinese_font_list = [\n",
    "    'HanyiSentyPagoda Regular.ttf',\n",
    "    'HanyiSentyPine Regular.ttf',\n",
    "    'HanyiSentyWen Regular.ttf'\n",
    "]\n",
    "font_size_range = (15,50)\n",
    "stroke_width_range = (0,1)\n",
    "rotation_degrees = [\n",
    "    -2, -1, 0, 1, 2,\n",
    "    88, 89, 90, 91, 92,\n",
    "    268, 269, 270, 271, 272\n",
    "]"
   ]
  },
  {
   "cell_type": "markdown",
   "metadata": {
    "id": "BAHE-8oB5faa"
   },
   "source": [
    "## Generate Training Set (100,000 Images)"
   ]
  },
  {
   "cell_type": "code",
   "execution_count": null,
   "metadata": {},
   "outputs": [],
   "source": [
    "%%time\n",
    "# use index 1 - 100,000 images\n",
    "input_path = 'DICOM/Cropped'\n",
    "\n",
    "def process_image_train(i):\n",
    "    # input\n",
    "    image_name = \"image {:06d}.png\".format(i)  # Use leading zeros for consistent naming\n",
    "    input = os.path.join(input_path, image_name)\n",
    "    # output\n",
    "    output = 'custom_dataset/images/train/train {:06d}.jpg'.format(i)  # Use leading zeros for consistent naming\n",
    "    # language\n",
    "    language = random.choice(languages)\n",
    "    # font name\n",
    "    if language == 'Chinese':\n",
    "        font_name = random.choice(Chinese_font_list)\n",
    "    else:\n",
    "        font_name = random.choice(English_Portuguese_font_list)\n",
    "    # font size\n",
    "    font_size = random.randint(font_size_range[0], font_size_range[1])\n",
    "    # text length\n",
    "    text_length = generate_poisson()\n",
    "    # fill color\n",
    "    fill_color = generate_random_grayscale_color()\n",
    "    # stroke color\n",
    "    stroke_color = generate_random_grayscale_color()\n",
    "    # stroke width\n",
    "    stroke_width = random.randint(stroke_width_range[0], stroke_width_range[1])\n",
    "    # rotation degree\n",
    "    rotation_degree = random.choice(rotation_degrees)\n",
    "\n",
    "    # call main function\n",
    "    center_x, center_y, bbox_width, bbox_height = overlay_random_text(\n",
    "        input = input,\n",
    "        output = output,\n",
    "        language = language,\n",
    "        font_name = font_name,\n",
    "        font_size = font_size,\n",
    "        text_length = text_length,\n",
    "        fill_color = fill_color,\n",
    "        stroke_color = stroke_color,\n",
    "        stroke_width = stroke_width,\n",
    "        rotation_degree = rotation_degree)\n",
    "\n",
    "    # save label to txt file with format (class, center_x, center_y, bbox_width, bbox_height)\n",
    "    filename =  'custom_dataset/labels/train/train {:06d}.txt'.format(i)  # Use leading zeros for consistent naming\n",
    "    with open(filename, 'w') as file:\n",
    "        file.write(f'0 {center_x} {center_y} {bbox_width} {bbox_height}')\n",
    "\n",
    "# Use ThreadPoolExecutor to run the function in multiple threads\n",
    "NUM_THREADS = 10\n",
    "\n",
    "with ThreadPoolExecutor(max_workers=NUM_THREADS) as executor:\n",
    "    executor.map(process_image_train, range(1, 100001))\n"
   ]
  },
  {
   "cell_type": "markdown",
   "metadata": {
    "id": "WUXycu9-5rjz"
   },
   "source": [
    "## Generate Validation Set (12120 Images)"
   ]
  },
  {
   "cell_type": "code",
   "execution_count": null,
   "metadata": {},
   "outputs": [],
   "source": [
    "%%time\n",
    "# use index 100,001 - 112120 images\n",
    "input_path = 'DICOM/Cropped'\n",
    "\n",
    "def process_image_val(i):\n",
    "    # input\n",
    "    image_name = \"image {:06d}.png\".format(i)\n",
    "    input = os.path.join(input_path, image_name)\n",
    "    # output\n",
    "    output = 'custom_dataset/images/val/val {:06d}.jpg'.format(i-100000)\n",
    "    # language\n",
    "    language = random.choice(languages)\n",
    "    # font name\n",
    "    if language == 'Chinese':\n",
    "        font_name = random.choice(Chinese_font_list)\n",
    "    else:\n",
    "        font_name = random.choice(English_Portuguese_font_list)\n",
    "    # font size\n",
    "    font_size = random.randint(font_size_range[0], font_size_range[1])\n",
    "    # text length\n",
    "    text_length = generate_poisson()\n",
    "    # fill color\n",
    "    fill_color = generate_random_grayscale_color()\n",
    "    # stroke color\n",
    "    stroke_color = generate_random_grayscale_color()\n",
    "    # stroke width\n",
    "    stroke_width = random.randint(stroke_width_range[0], stroke_width_range[1])\n",
    "    # rotation degree\n",
    "    rotation_degree = random.choice(rotation_degrees)\n",
    "\n",
    "    # call main function\n",
    "    center_x, center_y, bbox_width, bbox_height = overlay_random_text(\n",
    "        input = input,\n",
    "        output = output,\n",
    "        language = language,\n",
    "        font_name = font_name,\n",
    "        font_size = font_size,\n",
    "        text_length = text_length,\n",
    "        fill_color = fill_color,\n",
    "        stroke_color = stroke_color,\n",
    "        stroke_width = stroke_width,\n",
    "        rotation_degree = rotation_degree)\n",
    "\n",
    "    # save label to txt file with format (class, center_x, center_y, bbox_width, bbox_height)\n",
    "    filename =  'custom_dataset/labels/val/val {:06d}.txt'.format(i-100000)\n",
    "    with open(filename, 'w') as file:\n",
    "        file.write(f'0 {center_x} {center_y} {bbox_width} {bbox_height}')\n",
    "\n",
    "# Use ThreadPoolExecutor to run the function in multiple threads\n",
    "NUM_THREADS = 10\n",
    "\n",
    "with ThreadPoolExecutor(max_workers=NUM_THREADS) as executor:\n",
    "    executor.map(process_image_val, range(100001, 112121))"
   ]
  },
  {
   "cell_type": "markdown",
   "metadata": {
    "id": "vVsFRZ8c5rcN"
   },
   "source": [
    "# Generate Testing Set"
   ]
  },
  {
   "cell_type": "code",
   "execution_count": null,
   "metadata": {
    "colab": {
     "base_uri": "https://localhost:8080/"
    },
    "executionInfo": {
     "elapsed": 284542,
     "status": "ok",
     "timestamp": 1690819717072,
     "user": {
      "displayName": "Ken Ye",
      "userId": "12827569412657472689"
     },
     "user_tz": 240
    },
    "id": "YqpswttTXaTq",
    "outputId": "9bbaec62-907f-4dad-b54c-e672a5fe69a7"
   },
   "outputs": [],
   "source": [
    "# generate 100 test images from original images\n",
    "# crop to 640 by 640 (random location)\n",
    "\n",
    "def process_image_test(i):\n",
    "    temp_path = f'temp_cropped_image_{i}.png'\n",
    "    try:\n",
    "        # input\n",
    "        random_file = random.choice(input_files)\n",
    "        input_image = Image.open(os.path.join(input_path, random_file))\n",
    "\n",
    "        # Crop random 640x640 from the image\n",
    "        left = random.randint(0, input_image.width - 640)\n",
    "        upper = random.randint(0, input_image.height - 640)\n",
    "        right = left + 640\n",
    "        lower = upper + 640\n",
    "        cropped_image = input_image.crop((left, upper, right, lower))\n",
    "\n",
    "        # Save cropped image to a temporary path\n",
    "        cropped_image.save(temp_path)\n",
    "    \n",
    "        # output\n",
    "        output = 'custom_dataset/images/test/test ' + str(i).zfill(6) + '.jpg'\n",
    "        # language\n",
    "        language = random.choice(languages)\n",
    "        # font name\n",
    "        if language == 'Chinese':\n",
    "            font_name = random.choice(Chinese_font_list)\n",
    "        else:\n",
    "            font_name = random.choice(English_Portuguese_font_list)\n",
    "        \n",
    "        # font size\n",
    "        font_size = random.randint(font_size_range[0], font_size_range[1])\n",
    "        # text length\n",
    "        text_length = generate_poisson()\n",
    "        # fill color\n",
    "        fill_color = generate_random_grayscale_color()\n",
    "        # stroke color\n",
    "        stroke_color = generate_random_grayscale_color()\n",
    "        # stroke width\n",
    "        stroke_width = random.randint(stroke_width_range[0], stroke_width_range[1])\n",
    "        # rotation degree\n",
    "        rotation_degree = random.choice(rotation_degrees)\n",
    "\n",
    "        # call main function\n",
    "        center_x, center_y, bbox_width, bbox_height = overlay_random_text(\n",
    "            input = temp_path,\n",
    "            output = output,\n",
    "            language = language,\n",
    "            font_name = font_name,\n",
    "            font_size = font_size,\n",
    "            text_length = text_length,\n",
    "            fill_color = fill_color,\n",
    "            stroke_color = stroke_color,\n",
    "            stroke_width = stroke_width,\n",
    "            rotation_degree = rotation_degree)\n",
    "\n",
    "        # save label to txt file with format (class, center_x, center_y, bbox_width, bbox_height)\n",
    "        filename =  'custom_dataset/labels/test/test ' + str(i).zfill(6) + '.txt'\n",
    "        with open(filename, 'w') as file:\n",
    "            file.write(f'0 {center_x} {center_y} {bbox_width} {bbox_height}')\n",
    "        \n",
    "    except Exception as e:\n",
    "        print(f\"Error processing image {i} with font {font_name}: {e}\")\n",
    "    finally:\n",
    "        # Ensure the temporary cropped image is removed\n",
    "        if os.path.exists(temp_path):\n",
    "            os.remove(temp_path)\n",
    "\n",
    "# Use ThreadPoolExecutor to run the function in multiple threads\n",
    "NUM_THREADS = 10\n",
    "\n",
    "input_path = 'DICOM/Original/images 1'\n",
    "input_files = os.listdir(input_path)\n",
    "\n",
    "with ThreadPoolExecutor(max_workers=NUM_THREADS) as executor:\n",
    "    executor.map(process_image_test, range(1, 101))"
   ]
  },
  {
   "cell_type": "code",
   "execution_count": null,
   "metadata": {},
   "outputs": [],
   "source": []
  }
 ],
 "metadata": {
  "colab": {
   "authorship_tag": "ABX9TyN2Qa9HMVFHglH6n4DT60o7",
   "machine_shape": "hm",
   "mount_file_id": "15R7BjWb11GDCPdyffYg5jR_5lXsw93VU",
   "provenance": []
  },
  "kernelspec": {
   "display_name": "Python (Local)",
   "language": "python",
   "name": "local-base"
  },
  "language_info": {
   "codemirror_mode": {
    "name": "ipython",
    "version": 3
   },
   "file_extension": ".py",
   "mimetype": "text/x-python",
   "name": "python",
   "nbconvert_exporter": "python",
   "pygments_lexer": "ipython3",
   "version": "3.7.12"
  }
 },
 "nbformat": 4,
 "nbformat_minor": 4
}
